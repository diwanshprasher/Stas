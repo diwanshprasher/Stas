{
  "nbformat": 4,
  "nbformat_minor": 0,
  "metadata": {
    "colab": {
      "provenance": []
    },
    "kernelspec": {
      "name": "python3",
      "display_name": "Python 3"
    },
    "language_info": {
      "name": "python"
    }
  },
  "cells": [
    {
      "cell_type": "code",
      "execution_count": 1,
      "metadata": {
        "colab": {
          "base_uri": "https://localhost:8080/"
        },
        "id": "ldUEZb4lqJZT",
        "outputId": "b46a90c6-a721-4c22-d8f2-42277ad26293"
      },
      "outputs": [
        {
          "output_type": "stream",
          "name": "stdout",
          "text": [
            "First 5 rows of the dataset:\n",
            "   teacher_id  gender tenure  beauty  students  rating\n",
            "0           1    Male     No    4.71        85    3.73\n",
            "1           2  Female     No    5.45        96    3.16\n",
            "2           3    Male     No    4.95        24    3.93\n",
            "3           4    Male     No    3.25        75    3.37\n",
            "4           5    Male     No    6.71        41    3.64\n"
          ]
        }
      ],
      "source": [
        "import pandas as pd\n",
        "import numpy as np\n",
        "import matplotlib.pyplot as plt\n",
        "\n",
        "\n",
        "np.random.seed(42)\n",
        "\n",
        "n = 100  # number of teachers\n",
        "data = pd.DataFrame({\n",
        "    'teacher_id': range(1, n+1),\n",
        "    'gender': np.random.choice(['Male', 'Female'], size=n),\n",
        "    'tenure': np.random.choice(['Yes', 'No'], size=n, p=[0.4, 0.6]),\n",
        "    'beauty': np.round(np.random.normal(5, 1.5, n), 2),   # normally distributed beauty scores\n",
        "    'students': np.random.randint(10, 100, n),\n",
        "    'rating': np.round(np.random.uniform(2, 5, n), 2)     # teaching ratings between 2–5\n",
        "})\n",
        "\n",
        "# Fix possible negative beauty values (if any)\n",
        "data['beauty'] = data['beauty'].clip(lower=0, upper=10)\n",
        "\n",
        "print(\"First 5 rows of the dataset:\")\n",
        "print(data.head())"
      ]
    },
    {
      "cell_type": "markdown",
      "source": [
        "Q1. Can you identify whether teachers Rating Data is a time serires or cross sectional?"
      ],
      "metadata": {
        "id": "6-L6GgR8rOk2"
      }
    },
    {
      "cell_type": "code",
      "source": [
        "print(\"\\nQ1. Type of data:\")\n",
        "print(\"This is a cross-sectional dataset because it contains information about different teachers at a single point in time.\")\n"
      ],
      "metadata": {
        "colab": {
          "base_uri": "https://localhost:8080/"
        },
        "id": "ZPvE_tBjqgsi",
        "outputId": "e425c6ce-bc37-4058-adf3-b1bc77d592ee"
      },
      "execution_count": 2,
      "outputs": [
        {
          "output_type": "stream",
          "name": "stdout",
          "text": [
            "\n",
            "Q1. Type of data:\n",
            "This is a cross-sectional dataset because it contains information about different teachers at a single point in time.\n"
          ]
        }
      ]
    },
    {
      "cell_type": "markdown",
      "source": [
        "Q2. Find the mean, median, minimum and maximum values for the students."
      ],
      "metadata": {
        "id": "G6rMCtq5rUk8"
      }
    },
    {
      "cell_type": "code",
      "source": [
        "mean_students = data['students'].mean()\n",
        "median_students = data['students'].median()\n",
        "min_students = data['students'].min()\n",
        "max_students = data['students'].max()\n",
        "\n",
        "print(\"\\nQ2. Students statistics:\")\n",
        "print(f\"Mean: {mean_students:.2f}\")\n",
        "print(f\"Median: {median_students}\")\n",
        "print(f\"Minimum: {min_students}\")\n",
        "print(f\"Maximum: {max_students}\")"
      ],
      "metadata": {
        "colab": {
          "base_uri": "https://localhost:8080/"
        },
        "id": "yUtFdSjlqpNQ",
        "outputId": "af4285c6-44e3-4c5a-b9bd-7bcd717992ba"
      },
      "execution_count": 3,
      "outputs": [
        {
          "output_type": "stream",
          "name": "stdout",
          "text": [
            "\n",
            "Q2. Students statistics:\n",
            "Mean: 55.31\n",
            "Median: 61.0\n",
            "Minimum: 10\n",
            "Maximum: 99\n"
          ]
        }
      ]
    },
    {
      "cell_type": "markdown",
      "source": [
        "Q3. Produce the descriptive statistics table."
      ],
      "metadata": {
        "id": "Z2H4nhktrZqp"
      }
    },
    {
      "cell_type": "code",
      "source": [
        "print(\"\\nQ3. Descriptive Statistics:\")\n",
        "print(data.describe())"
      ],
      "metadata": {
        "colab": {
          "base_uri": "https://localhost:8080/"
        },
        "id": "85GH7AmxqxQk",
        "outputId": "2521d638-fcf3-4aac-9fde-064ac3a8b5ae"
      },
      "execution_count": 4,
      "outputs": [
        {
          "output_type": "stream",
          "name": "stdout",
          "text": [
            "\n",
            "Q3. Descriptive Statistics:\n",
            "       teacher_id      beauty    students     rating\n",
            "count  100.000000  100.000000  100.000000  100.00000\n",
            "mean    50.500000    5.165900   55.310000    3.52760\n",
            "std     29.011492    1.451336   26.902253    0.93694\n",
            "min      1.000000    2.590000   10.000000    2.03000\n",
            "25%     25.750000    3.817500   30.250000    2.78500\n",
            "50%     50.500000    5.365000   61.000000    3.50000\n",
            "75%     75.250000    6.002500   75.250000    4.37000\n",
            "max    100.000000   10.000000   99.000000    4.97000\n"
          ]
        }
      ]
    },
    {
      "cell_type": "markdown",
      "source": [
        "Q4. Create a histogram of the beauty variable and breifly comment on the distribution of the data."
      ],
      "metadata": {
        "id": "EulSK1dArdCT"
      }
    },
    {
      "cell_type": "code",
      "source": [
        "plt.hist(data['beauty'], bins=10, color='skyblue', edgecolor='black')\n",
        "plt.title(\"Histogram of Beauty Scores\")\n",
        "plt.xlabel(\"Beauty Score\")\n",
        "plt.ylabel(\"Frequency\")\n",
        "plt.show()"
      ],
      "metadata": {
        "colab": {
          "base_uri": "https://localhost:8080/",
          "height": 472
        },
        "id": "vPpl99vcqzyG",
        "outputId": "3b5e9194-4b94-45e4-f340-78bdb958ed28"
      },
      "execution_count": 5,
      "outputs": [
        {
          "output_type": "display_data",
          "data": {
            "text/plain": [
              "<Figure size 640x480 with 1 Axes>"
            ],
            "image/png": "[encoded data removed]"
          },
          "metadata": {}
        }
      ]
    },
    {
      "cell_type": "markdown",
      "source": [
        "Q5. Does average beauty score differ by gender? Produce the means and standard deviations for both male and female instructors."
      ],
      "metadata": {
        "id": "IL-HiVTYrgY5"
      }
    },
    {
      "cell_type": "code",
      "source": [
        "beauty_stats = data.groupby('gender')['beauty'].agg(['mean', 'std'])\n",
        "print(\"\\nQ5. Average Beauty Score by Gender:\")\n",
        "print(beauty_stats)"
      ],
      "metadata": {
        "colab": {
          "base_uri": "https://localhost:8080/"
        },
        "id": "Z1DXw7YarArD",
        "outputId": "c70b00c0-862c-435a-c50b-5e259a75c7c3"
      },
      "execution_count": 6,
      "outputs": [
        {
          "output_type": "stream",
          "name": "stdout",
          "text": [
            "\n",
            "Q5. Average Beauty Score by Gender:\n",
            "            mean       std\n",
            "gender                    \n",
            "Female  5.106964  1.637852\n",
            "Male    5.240909  1.186635\n"
          ]
        }
      ]
    },
    {
      "cell_type": "markdown",
      "source": [
        "Q6. Calculate the percentage of males and females that are tenured professors. Will you say that tenure status differ by gender?"
      ],
      "metadata": {
        "id": "7X1RgdDCrkCh"
      }
    },
    {
      "cell_type": "code",
      "source": [
        "tenure_table = pd.crosstab(data['gender'], data['tenure'], normalize='index') * 100\n",
        "print(\"\\nQ6. Percentage of Tenure Status by Gender:\")\n",
        "print(tenure_table.round(2))\n",
        "\n",
        "print(\"\\nComment:\")\n",
        "print(\"If tenure percentages differ significantly between genders, we can say tenure status differs by gender.\")"
      ],
      "metadata": {
        "colab": {
          "base_uri": "https://localhost:8080/"
        },
        "id": "YKjAoXX6rG4G",
        "outputId": "e9024a79-876e-48c8-a254-84235ee3d7de"
      },
      "execution_count": 7,
      "outputs": [
        {
          "output_type": "stream",
          "name": "stdout",
          "text": [
            "\n",
            "Q6. Percentage of Tenure Status by Gender:\n",
            "tenure     No    Yes\n",
            "gender              \n",
            "Female  58.93  41.07\n",
            "Male    50.00  50.00\n",
            "\n",
            "Comment:\n",
            "If tenure percentages differ significantly between genders, we can say tenure status differs by gender.\n"
          ]
        }
      ]
    }
  ]
}