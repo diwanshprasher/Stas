{
  "nbformat": 4,
  "nbformat_minor": 0,
  "metadata": {
    "colab": {
      "provenance": []
    },
    "kernelspec": {
      "name": "python3",
      "display_name": "Python 3"
    },
    "language_info": {
      "name": "python"
    }
  },
  "cells": [
    {
      "cell_type": "markdown",
      "source": [
        " Q1. Regression with T-test: Using the teachers rating data set, does gender\n",
        " affect teaching evaluation rates?"
      ],
      "metadata": {
        "id": "NVSX0ecuia1X"
      }
    },
    {
      "cell_type": "code",
      "source": [
        "import pandas as pd\n",
        "import numpy as np\n",
        "from scipy import stats\n",
        "import statsmodels.api as sm\n",
        "import statsmodels.formula.api as smf\n",
        "\n",
        "# 1. Create a synthetic dataset\n",
        "np.random.seed(42)\n",
        "\n",
        "n = 200  # total number of teachers\n",
        "gender = np.random.choice(['Male', 'Female'], size=n)\n",
        "\n",
        "# Assume females tend to get slightly higher ratings on average\n",
        "evaluation = np.where(gender == 'Male',\n",
        "                      np.random.normal(6.8, 0.8, n),\n",
        "                      np.random.normal(7.2, 0.8, n))\n",
        "\n",
        "# Combine into DataFrame\n",
        "df = pd.DataFrame({'gender': gender, 'evaluation': evaluation})\n",
        "print(\"Synthetic Teachers Rating Dataset:\")\n",
        "print(df.head())\n",
        "\n",
        "# 2. T-test: Does gender affect evaluation rate?\n",
        "male_scores = df[df['gender'] == 'Male']['evaluation']\n",
        "female_scores = df[df['gender'] == 'Female']['evaluation']\n",
        "\n",
        "t_stat, p_value = stats.ttest_ind(female_scores, male_scores)\n",
        "\n",
        "print(\"\\nT-Test Results:\")\n",
        "print(f\"T-statistic = {t_stat:.4f}\")\n",
        "print(f\"P-value = {p_value:.4f}\")\n",
        "\n",
        "# 3. Regression: evaluation ~ gender\n",
        "df['gender_code'] = df['gender'].map({'Male': 0, 'Female': 1})\n",
        "model = smf.ols('evaluation ~ gender_code', data=df).fit()\n",
        "\n",
        "print(\"\\nRegression Summary:\")\n",
        "print(model.summary())\n"
      ],
      "metadata": {
        "colab": {
          "base_uri": "https://localhost:8080/"
        },
        "id": "lTtwVLTTic_k",
        "outputId": "db82f702-ff02-4217-90c7-aa7775d7b6cd"
      },
      "execution_count": 6,
      "outputs": [
        {
          "output_type": "stream",
          "name": "stdout",
          "text": [
            "Synthetic Teachers Rating Dataset:\n",
            "   gender  evaluation\n",
            "0    Male    6.869638\n",
            "1  Female    6.719826\n",
            "2    Male    6.873409\n",
            "3    Male    5.209945\n",
            "4    Male    6.624262\n",
            "\n",
            "T-Test Results:\n",
            "T-statistic = 2.9090\n",
            "P-value = 0.0040\n",
            "\n",
            "Regression Summary:\n",
            "                            OLS Regression Results                            \n",
            "==============================================================================\n",
            "Dep. Variable:             evaluation   R-squared:                       0.041\n",
            "Model:                            OLS   Adj. R-squared:                  0.036\n",
            "Method:                 Least Squares   F-statistic:                     8.462\n",
            "Date:                Tue, 28 Oct 2025   Prob (F-statistic):            0.00404\n",
            "Time:                        11:22:22   Log-Likelihood:                -240.50\n",
            "No. Observations:                 200   AIC:                             485.0\n",
            "Df Residuals:                     198   BIC:                             491.6\n",
            "Df Model:                           1                                         \n",
            "Covariance Type:            nonrobust                                         \n",
            "===============================================================================\n",
            "                  coef    std err          t      P>|t|      [0.025      0.975]\n",
            "-------------------------------------------------------------------------------\n",
            "Intercept       6.8549      0.081     84.685      0.000       6.695       7.015\n",
            "gender_code     0.3330      0.114      2.909      0.004       0.107       0.559\n",
            "==============================================================================\n",
            "Omnibus:                        2.988   Durbin-Watson:                   1.991\n",
            "Prob(Omnibus):                  0.225   Jarque-Bera (JB):                2.611\n",
            "Skew:                           0.211   Prob(JB):                        0.271\n",
            "Kurtosis:                       3.367   Cond. No.                         2.62\n",
            "==============================================================================\n",
            "\n",
            "Notes:\n",
            "[1] Standard Errors assume that the covariance matrix of the errors is correctly specified.\n"
          ]
        }
      ]
    },
    {
      "cell_type": "markdown",
      "source": [
        "Q2. Regression with ANOVA: Using the teachers' rating data set, does\n",
        " beauty score for instructors differ by age?"
      ],
      "metadata": {
        "id": "20z7_9iJi8SW"
      }
    },
    {
      "cell_type": "code",
      "source": [
        "import pandas as pd\n",
        "import numpy as np\n",
        "import statsmodels.api as sm\n",
        "import statsmodels.formula.api as smf\n",
        "from statsmodels.stats.anova import anova_lm\n",
        "\n",
        "np.random.seed(42)\n",
        "n = 200\n",
        "age = np.random.randint(25, 65, n)\n",
        "age_group = pd.cut(age, bins=[24, 35, 50, 65], labels=['Young', 'Middle', 'Senior'])\n",
        "beauty = np.where(age_group == 'Young',\n",
        "                  np.random.normal(7.2, 0.6, n),\n",
        "                  np.where(age_group == 'Middle',\n",
        "                           np.random.normal(6.8, 0.6, n),\n",
        "                           np.random.normal(6.3, 0.6, n)))\n",
        "df = pd.DataFrame({'age': age, 'age_group': age_group, 'beauty': beauty})\n",
        "print(\"Synthetic Teachers Rating Dataset:\")\n",
        "print(df.head())\n",
        "\n",
        "model = smf.ols('beauty ~ C(age_group)', data=df).fit()\n",
        "anova_results = sm.stats.anova_lm(model, typ=2)\n",
        "print(\"\\nANOVA Results:\")\n",
        "print(anova_results)\n"
      ],
      "metadata": {
        "colab": {
          "base_uri": "https://localhost:8080/"
        },
        "id": "rUmcC6Byi8xq",
        "outputId": "40afc048-eb4c-416b-a6a9-5311cf7153de"
      },
      "execution_count": 7,
      "outputs": [
        {
          "output_type": "stream",
          "name": "stdout",
          "text": [
            "Synthetic Teachers Rating Dataset:\n",
            "   age age_group    beauty\n",
            "0   63    Senior  5.323475\n",
            "1   53    Senior  6.328851\n",
            "2   39    Middle  7.174472\n",
            "3   32     Young  6.897915\n",
            "4   45    Middle  6.792652\n",
            "\n",
            "ANOVA Results:\n",
            "                 sum_sq     df          F        PR(>F)\n",
            "C(age_group)  36.862478    2.0  44.029292  1.562831e-16\n",
            "Residual      82.466783  197.0        NaN           NaN\n"
          ]
        }
      ]
    },
    {
      "cell_type": "markdown",
      "source": [
        "Q3. Correlation: Using the teachers' rating dataset, Is teaching evaluation score correlated with beauty score?¶"
      ],
      "metadata": {
        "id": "8QogeoRvjMgL"
      }
    },
    {
      "cell_type": "code",
      "source": [
        "import pandas as pd\n",
        "import numpy as np\n",
        "from scipy import stats\n",
        "\n",
        "np.random.seed(42)\n",
        "n = 200\n",
        "beauty = np.random.normal(6.5, 0.8, n)\n",
        "evaluation = 0.5 * beauty + np.random.normal(3, 0.7, n)\n",
        "df = pd.DataFrame({'beauty': beauty, 'evaluation': evaluation})\n",
        "print(\"Synthetic Teachers Rating Dataset:\")\n",
        "print(df.head())\n",
        "\n",
        "correlation, p_value = stats.pearsonr(df['beauty'], df['evaluation'])\n",
        "print(\"\\nCorrelation Analysis:\")\n",
        "print(f\"Correlation coefficient = {correlation:.4f}\")\n",
        "print(f\"P-value = {p_value:.4f}\")\n"
      ],
      "metadata": {
        "colab": {
          "base_uri": "https://localhost:8080/"
        },
        "id": "SCZOh4EmjRc3",
        "outputId": "48e7d987-7f26-4659-f1d9-5ac4d79b353c"
      },
      "execution_count": 8,
      "outputs": [
        {
          "output_type": "stream",
          "name": "stdout",
          "text": [
            "Synthetic Teachers Rating Dataset:\n",
            "     beauty  evaluation\n",
            "0  6.897371    6.699137\n",
            "1  6.389389    6.587243\n",
            "2  7.018151    7.267211\n",
            "3  7.718424    7.596873\n",
            "4  6.312677    5.191970\n",
            "\n",
            "Correlation Analysis:\n",
            "Correlation coefficient = 0.5373\n",
            "P-value = 0.0000\n"
          ]
        }
      ]
    }
  ]
}