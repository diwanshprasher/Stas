{
  "nbformat": 4,
  "nbformat_minor": 0,
  "metadata": {
    "colab": {
      "provenance": []
    },
    "kernelspec": {
      "name": "python3",
      "display_name": "Python 3"
    },
    "language_info": {
      "name": "python"
    }
  },
  "cells": [
    {
      "cell_type": "code",
      "execution_count": 1,
      "metadata": {
        "colab": {
          "base_uri": "https://localhost:8080/"
        },
        "id": "vDIGtcM0UIMG",
        "outputId": "b06a1ed6-b5c6-4dc3-f1f9-85fb5526deb6"
      },
      "outputs": [
        {
          "output_type": "stream",
          "name": "stdout",
          "text": [
            "## Part 1: Teachers' Rating Dataset\n",
            "-----------------------------------\n"
          ]
        }
      ],
      "source": [
        "# Import necessary libraries\n",
        "import numpy as np\n",
        "from scipy import stats\n",
        "import math\n",
        "\n",
        "# ===================================================\n",
        "#  PART 1: Teachers' Rating Dataset\n",
        "# ===================================================\n",
        "print(\"## Part 1: Teachers' Rating Dataset\")\n",
        "print(\"-\" * 35)\n",
        "\n",
        "# Updated hypothetical dataset of 50 teacher evaluation scores\n",
        "ratings = np.array([\n",
        "    4.0, 3.6, 4.8, 4.5, 3.2, 4.4, 4.9, 3.7, 4.3, 3.1, 4.6, 3.9, 4.1, 4.7, 3.8,\n",
        "    4.2, 3.5, 4.4, 4.9, 4.0, 3.8, 4.5, 3.3, 4.6, 3.9, 4.7, 4.0, 3.4, 4.3, 3.6,\n",
        "    4.8, 4.9, 3.7, 4.2, 3.5, 4.1, 4.6, 3.9, 4.8, 4.0, 3.8, 4.5, 3.3, 4.7, 3.6,\n",
        "    4.2, 4.3, 3.5, 4.9, 4.4\n",
        "])"
      ]
    },
    {
      "cell_type": "markdown",
      "source": [
        "Q1. Using the teachers' rating dataset, what is the probability of receiving an evaluation score of greater than 4.5\n"
      ],
      "metadata": {
        "id": "Deb2iV5QUpAm"
      }
    },
    {
      "cell_type": "code",
      "source": [
        "count_gt_4_5 = np.sum(ratings > 4.5)\n",
        "total_count = len(ratings)\n",
        "prob_gt_4_5 = count_gt_4_5 / total_count\n",
        "\n",
        "print(f\"Q1: Probability of receiving a score > 4.5\")\n",
        "print(f\"   - Count of scores > 4.5: {count_gt_4_5}\")\n",
        "print(f\"   - Total scores: {total_count}\")\n",
        "print(f\"   - Probability: {count_gt_4_5}/{total_count} = {prob_gt_4_5:.2f} or {prob_gt_4_5:.0%}\\n\")\n"
      ],
      "metadata": {
        "colab": {
          "base_uri": "https://localhost:8080/"
        },
        "id": "vnwE94P9UL6y",
        "outputId": "78b9fdd1-5e66-469e-8dcd-5325b20a1aff"
      },
      "execution_count": 2,
      "outputs": [
        {
          "output_type": "stream",
          "name": "stdout",
          "text": [
            "Q1: Probability of receiving a score > 4.5\n",
            "   - Count of scores > 4.5: 13\n",
            "   - Total scores: 50\n",
            "   - Probability: 13/50 = 0.26 or 26%\n",
            "\n"
          ]
        }
      ]
    },
    {
      "cell_type": "markdown",
      "source": [
        "Q2. Using the teachers' rating dataset, what is the probability of receiving an evaluation score greater than 3.5 and less than 4.2"
      ],
      "metadata": {
        "id": "KUmLjqMGUuA1"
      }
    },
    {
      "cell_type": "code",
      "source": [
        "print(\"## Part 2: Hypothesis Test for Basketball Teams\")\n",
        "print(\"-\" * 45)"
      ],
      "metadata": {
        "colab": {
          "base_uri": "https://localhost:8080/"
        },
        "id": "OgA30s8XUOv2",
        "outputId": "8c4399fa-cfdd-4ab7-fd95-0b252fd06d5b"
      },
      "execution_count": 3,
      "outputs": [
        {
          "output_type": "stream",
          "name": "stdout",
          "text": [
            "## Part 2: Hypothesis Test for Basketball Teams\n",
            "---------------------------------------------\n"
          ]
        }
      ]
    },
    {
      "cell_type": "markdown",
      "source": [
        "Q3. Using the two-tailed test from a normal distribution:\n",
        "1. A professional basketball team wants to compare its performance with that of players in a regional league.\n",
        "2. The pros are known to have a historic mean of 12 points per game with a standard deviation of 5.5.\n",
        "3. A group of 36 regional players recorded on average 10.7 points per game.\n",
        "4. The pro coach would like to know whether his professional team scores on average are different from that of the regional players.\n",
        "State the null hypothesis\n",
        "Null Hypo: (\"The mean point of the regional players is not different from the historic mean\")\n",
        "Alternative Hypo: (\"The mean point of the regional players is different from the historic mean\")"
      ],
      "metadata": {
        "id": "Bogo5GMMUy0G"
      }
    },
    {
      "cell_type": "code",
      "source": [
        "print(\"Stating the Hypotheses:\")\n",
        "print(\"Null Hypothesis (H0): The mean score of the regional players is equal to 15. ($H_0: \\\\mu = 15$)\")\n",
        "print(\"Alternative Hypothesis (Ha): The mean score of the regional players is not equal to 15. ($H_a: \\\\mu \\\\neq 15$)\\n\")\n",
        "\n",
        "# Updated given information\n",
        "mu_0 = 15       # Historic mean\n",
        "sigma = 4.8     # Population standard deviation\n",
        "n = 49          # Sample size\n",
        "x_bar = 13.9    # Sample mean\n",
        "\n",
        "# Step 1: Calculate standard error\n",
        "sem = sigma / math.sqrt(n)\n",
        "\n",
        "# Step 2: Calculate Z-score\n",
        "z_score = (x_bar - mu_0) / sem\n",
        "\n",
        "# Step 3: Two-tailed p-value (for both sides of the distribution)\n",
        "p_value = 2 * (1 - stats.norm.cdf(abs(z_score)))\n",
        "\n",
        "print(\"Performing the Two-Tailed Z-test:\")\n",
        "print(f\"   - Sample Mean (x̄): {x_bar}\")\n",
        "print(f\"   - Z-score: {z_score:.4f}\")\n",
        "print(f\"   - P-value: {p_value:.4f}\\n\")\n",
        "\n",
        "# Step 4: Conclusion\n",
        "alpha = 0.05\n",
        "print(f\"Conclusion (at α = {alpha} significance level):\")\n",
        "if p_value < alpha:\n",
        "    print(f\"   - Since the p-value ({p_value:.4f}) is less than {alpha}, we REJECT the null hypothesis.\")\n",
        "    print(\"   - There is statistically significant evidence to conclude that the regional players' mean score differs from the historic mean.\")\n",
        "else:\n",
        "    print(f\"   - Since the p-value ({p_value:.4f}) is greater than {alpha}, we FAIL TO REJECT the null hypothesis.\")\n",
        "    print(\"   - There is not enough evidence to conclude a difference between the regional players' mean and the historic mean.\")"
      ],
      "metadata": {
        "colab": {
          "base_uri": "https://localhost:8080/"
        },
        "id": "cKrrb5ALUXUc",
        "outputId": "208d5230-a024-46c6-8f10-95d0f4edb74c"
      },
      "execution_count": 4,
      "outputs": [
        {
          "output_type": "stream",
          "name": "stdout",
          "text": [
            "Stating the Hypotheses:\n",
            "Null Hypothesis (H0): The mean score of the regional players is equal to 15. ($H_0: \\mu = 15$)\n",
            "Alternative Hypothesis (Ha): The mean score of the regional players is not equal to 15. ($H_a: \\mu \\neq 15$)\n",
            "\n",
            "Performing the Two-Tailed Z-test:\n",
            "   - Sample Mean (x̄): 13.9\n",
            "   - Z-score: -1.6042\n",
            "   - P-value: 0.1087\n",
            "\n",
            "Conclusion (at α = 0.05 significance level):\n",
            "   - Since the p-value (0.1087) is greater than 0.05, we FAIL TO REJECT the null hypothesis.\n",
            "   - There is not enough evidence to conclude a difference between the regional players' mean and the historic mean.\n"
          ]
        }
      ]
    }
  ]
}