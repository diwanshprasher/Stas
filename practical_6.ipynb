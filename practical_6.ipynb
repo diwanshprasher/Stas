{
  "nbformat": 4,
  "nbformat_minor": 0,
  "metadata": {
    "colab": {
      "provenance": []
    },
    "kernelspec": {
      "name": "python3",
      "display_name": "Python 3"
    },
    "language_info": {
      "name": "python"
    }
  },
  "cells": [
    {
      "cell_type": "code",
      "execution_count": 1,
      "metadata": {
        "colab": {
          "base_uri": "https://localhost:8080/"
        },
        "id": "jzaD9wJA_2gq",
        "outputId": "6eccec39-1b41-45ab-d85b-c4f0031ec9bc"
      },
      "outputs": [
        {
          "output_type": "stream",
          "name": "stdout",
          "text": [
            "First 5 rows of the dataset:\n",
            "    gender  age       tenure  beauty_score  teaching_evaluation\n",
            "0    Male   56      Tenured      3.282577             5.046026\n",
            "1  Female   63      Tenured      5.886974             6.952823\n",
            "2    Male   56  Non-Tenured      3.675382             4.913086\n",
            "3    Male   28  Non-Tenured      3.950933             4.655490\n",
            "4    Male   54      Tenured      4.372237             5.402424\n"
          ]
        }
      ],
      "source": [
        "import numpy as np\n",
        "import pandas as pd\n",
        "from scipy import stats\n",
        "\n",
        "\n",
        "np.random.seed(42)\n",
        "\n",
        "\n",
        "n = 200\n",
        "gender = np.random.choice(['Male', 'Female'], size=n)\n",
        "age = np.random.randint(25, 65, size=n)\n",
        "tenure = np.random.choice(['Tenured', 'Non-Tenured'], size=n)\n",
        "beauty_score = np.random.normal(loc=5, scale=1.5, size=n)  # scale = std dev\n",
        "beauty_score = np.clip(beauty_score, 1, 10)  # limit between 1–10\n",
        "teaching_evaluation = (\n",
        "    0.3 * beauty_score +\n",
        "    np.where(gender == 'Female', 0.2, 0) +\n",
        "    np.random.normal(0, 0.5, n) + 4\n",
        ")\n",
        "teaching_evaluation = np.clip(teaching_evaluation, 1, 10)\n",
        "\n",
        "df = pd.DataFrame({\n",
        "    'gender': gender,\n",
        "    'age': age,\n",
        "    'tenure': tenure,\n",
        "    'beauty_score': beauty_score,\n",
        "    'teaching_evaluation': teaching_evaluation\n",
        "})\n",
        "\n",
        "print(\"First 5 rows of the dataset:\\n\", df.head())"
      ]
    },
    {
      "cell_type": "markdown",
      "source": [
        "Q1. T-Test: Using the teachers' rating data set, does gender affect teaching evaluation rates?"
      ],
      "metadata": {
        "id": "diyuF6u5AC_C"
      }
    },
    {
      "cell_type": "code",
      "source": [
        "male_eval = df.loc[df['gender'] == 'Male', 'teaching_evaluation']\n",
        "female_eval = df.loc[df['gender'] == 'Female', 'teaching_evaluation']\n",
        "\n",
        "t_stat, p_val = stats.ttest_ind(male_eval, female_eval)\n",
        "print(\"\\nQ1: T-Test — Gender vs Teaching Evaluation\")\n",
        "print(f\"T-statistic = {t_stat:.3f}, P-value = {p_val:.3f}\")\n",
        "if p_val < 0.05:\n",
        "    print(\"✅ Significant difference: Gender affects evaluation rates.\")\n",
        "else:\n",
        "    print(\"❌ No significant difference: Gender does not affect evaluation rates.\")"
      ],
      "metadata": {
        "colab": {
          "base_uri": "https://localhost:8080/"
        },
        "id": "jI37GsfRAD3B",
        "outputId": "d4da301e-a806-49a5-df55-17fbc532bb5c"
      },
      "execution_count": 2,
      "outputs": [
        {
          "output_type": "stream",
          "name": "stdout",
          "text": [
            "\n",
            "Q1: T-Test — Gender vs Teaching Evaluation\n",
            "T-statistic = -1.776, P-value = 0.077\n",
            "❌ No significant difference: Gender does not affect evaluation rates.\n"
          ]
        }
      ]
    },
    {
      "cell_type": "markdown",
      "source": [
        "Q2. ANOVA: Using the teachers' rating data set, does beauty score for instructors differ by age?"
      ],
      "metadata": {
        "id": "xot3HTCYASv3"
      }
    },
    {
      "cell_type": "code",
      "source": [
        "df['age_group'] = pd.cut(df['age'], bins=[20, 35, 50, 65],\n",
        "                         labels=['Young', 'Middle-aged', 'Old'])\n",
        "\n",
        "groups = [df.loc[df['age_group'] == grp, 'beauty_score'] for grp in df['age_group'].unique()]\n",
        "f_stat, p_val_anova = stats.f_oneway(*groups)\n",
        "\n",
        "print(\"\\nQ2: ANOVA — Beauty Score vs Age Group\")\n",
        "print(f\"F-statistic = {f_stat:.3f}, P-value = {p_val_anova:.3f}\")\n",
        "if p_val_anova < 0.05:\n",
        "    print(\"✅ Significant difference: Beauty scores differ by age group.\")\n",
        "else:\n",
        "    print(\"❌ No significant difference: Beauty scores do not differ by age group.\")"
      ],
      "metadata": {
        "colab": {
          "base_uri": "https://localhost:8080/"
        },
        "id": "VQP0QCiGAY9G",
        "outputId": "9eb4da77-2156-4150-ed9e-68918632036f"
      },
      "execution_count": 3,
      "outputs": [
        {
          "output_type": "stream",
          "name": "stdout",
          "text": [
            "\n",
            "Q2: ANOVA — Beauty Score vs Age Group\n",
            "F-statistic = 0.483, P-value = 0.618\n",
            "❌ No significant difference: Beauty scores do not differ by age group.\n"
          ]
        }
      ]
    },
    {
      "cell_type": "markdown",
      "source": [
        "Q3: Chi-square (Is there an association between tenure and gender?)"
      ],
      "metadata": {
        "id": "ll2WC35cAdD1"
      }
    },
    {
      "cell_type": "code",
      "source": [
        "contingency = pd.crosstab(df['gender'], df['tenure'])\n",
        "chi2, p_val_chi, dof, expected = stats.chi2_contingency(contingency)\n",
        "\n",
        "print(\"\\nQ3: Chi-Square — Tenure vs Gender\")\n",
        "print(f\"Chi2 = {chi2:.3f}, P-value = {p_val_chi:.3f}\")\n",
        "if p_val_chi < 0.05:\n",
        "    print(\"✅ Significant association: Tenure and Gender are related.\")\n",
        "else:\n",
        "    print(\"❌ No significant association between tenure and gender.\")"
      ],
      "metadata": {
        "colab": {
          "base_uri": "https://localhost:8080/"
        },
        "id": "60a38vniAgJs",
        "outputId": "8a81d9e8-ed5e-4014-fda5-46f4c1c5456a"
      },
      "execution_count": 4,
      "outputs": [
        {
          "output_type": "stream",
          "name": "stdout",
          "text": [
            "\n",
            "Q3: Chi-Square — Tenure vs Gender\n",
            "Chi2 = 1.290, P-value = 0.256\n",
            "❌ No significant association between tenure and gender.\n"
          ]
        }
      ]
    },
    {
      "cell_type": "markdown",
      "source": [
        "Q4: Correlation (Is teaching evaluation correlated with beauty score?)"
      ],
      "metadata": {
        "id": "SoUZEQKmAjYM"
      }
    },
    {
      "cell_type": "code",
      "source": [
        "corr, p_val_corr = stats.pearsonr(df['teaching_evaluation'], df['beauty_score'])\n",
        "print(\"\\nQ4: Correlation — Teaching Evaluation vs Beauty Score\")\n",
        "print(f\"Correlation Coefficient = {corr:.3f}, P-value = {p_val_corr:.3f}\")\n",
        "if p_val_corr < 0.05:\n",
        "    print(\"✅ Significant positive correlation.\")\n",
        "else:\n",
        "    print(\"❌ No significant correlation.\")"
      ],
      "metadata": {
        "colab": {
          "base_uri": "https://localhost:8080/"
        },
        "id": "-h2bgMTOAlyn",
        "outputId": "a65c62b4-5e69-457d-f9af-6a2ff5bc3580"
      },
      "execution_count": 5,
      "outputs": [
        {
          "output_type": "stream",
          "name": "stdout",
          "text": [
            "\n",
            "Q4: Correlation — Teaching Evaluation vs Beauty Score\n",
            "Correlation Coefficient = 0.659, P-value = 0.000\n",
            "✅ Significant positive correlation.\n"
          ]
        }
      ]
    }
  ]
}